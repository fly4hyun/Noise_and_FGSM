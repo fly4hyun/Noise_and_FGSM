{
 "cells": [
  {
   "cell_type": "code",
   "execution_count": 1,
   "id": "2d5e87b4",
   "metadata": {},
   "outputs": [],
   "source": [
    "import torch\n",
    "import torch.nn as nn\n",
    "import torch.nn.functional as F\n",
    "import torch.optim as optim\n",
    "import torchvision\n",
    "import torchvision.transforms as transforms\n",
    "from torch.utils.data import Dataset\n",
    "from torchvision import models"
   ]
  },
  {
   "cell_type": "code",
   "execution_count": null,
   "id": "e8ded029",
   "metadata": {},
   "outputs": [],
   "source": []
  },
  {
   "cell_type": "code",
   "execution_count": 2,
   "id": "b827cb2e",
   "metadata": {},
   "outputs": [],
   "source": [
    "## 파라메타 설정"
   ]
  },
  {
   "cell_type": "code",
   "execution_count": 3,
   "id": "1590a298",
   "metadata": {},
   "outputs": [],
   "source": [
    "batch_size = 128\n",
    "epochs = 50\n",
    "lr = 0.001"
   ]
  },
  {
   "cell_type": "code",
   "execution_count": 4,
   "id": "f195e95e",
   "metadata": {},
   "outputs": [
    {
     "name": "stdout",
     "output_type": "stream",
     "text": [
      "cuda is avaulable\n"
     ]
    }
   ],
   "source": [
    "device = 'cuda' if torch.cuda.is_available() else 'cpu'\n",
    "torch.manual_seed(444)\n",
    "if device == 'cuda':\n",
    "    torch.cuda.manual_seed_all(444)\n",
    "print(device + ' is avaulable')"
   ]
  },
  {
   "cell_type": "code",
   "execution_count": null,
   "id": "50ba5742",
   "metadata": {},
   "outputs": [],
   "source": []
  },
  {
   "cell_type": "code",
   "execution_count": 5,
   "id": "afb68ceb",
   "metadata": {},
   "outputs": [
    {
     "name": "stdout",
     "output_type": "stream",
     "text": [
      "Files already downloaded and verified\n",
      "Files already downloaded and verified\n"
     ]
    }
   ],
   "source": [
    "transform = transforms.Compose([transforms.ToTensor(), transforms.Normalize((0.5, 0.5, 0.5), (0.5, 0.5, 0.5))])\n",
    "\n",
    "trainset = torchvision.datasets.CIFAR10(root = './data', train = True, download = True, transform = transform)\n",
    "trainloader = torch.utils.data.DataLoader(trainset, batch_size = batch_size, shuffle = True, num_workers = 2)\n",
    "\n",
    "testset = torchvision.datasets.CIFAR10(root = './data', train = False, download = True, transform = transform)\n",
    "testloader = torch.utils.data.DataLoader(testset, batch_size = batch_size, shuffle = False, num_workers = 2)\n",
    "\n",
    "classes = ('plane', 'car', 'bird', 'cat', 'deer', 'dog', 'frog', 'horse', 'ship', 'truck')\n",
    "num_classes = 10"
   ]
  },
  {
   "cell_type": "code",
   "execution_count": null,
   "id": "28332493",
   "metadata": {},
   "outputs": [],
   "source": []
  },
  {
   "cell_type": "code",
   "execution_count": 6,
   "id": "dd416b21",
   "metadata": {},
   "outputs": [],
   "source": [
    "## ECOC multi-hot encoding"
   ]
  },
  {
   "cell_type": "code",
   "execution_count": 7,
   "id": "c2f6ba3a",
   "metadata": {},
   "outputs": [],
   "source": [
    "label_encoding = torch.FloatTensor([[1, 1, 1, 1, 0, 0, 0, 0, 0, 0],\n",
    "                                    [0, 1, 1, 0, 1, 1, 0, 0, 0 ,0],\n",
    "                                    [0, 0, 1, 1, 1, 0, 1, 0, 0, 0],\n",
    "                                    [1, 0, 1, 0, 1, 0, 0 ,1 ,0 ,0],\n",
    "                                    [0, 0, 0, 1, 0, 1, 0, 1, 1, 0],\n",
    "                                    [0, 1, 1, 1, 0, 1, 0, 0, 0, 0],\n",
    "                                    [0, 0, 0, 1, 1, 0, 1, 0, 1, 0],\n",
    "                                    [0, 1, 0, 0, 1, 1, 0, 0, 0, 1],\n",
    "                                    [0, 0, 0, 0, 1, 1, 1, 1, 0, 0],\n",
    "                                    [1, 0, 0, 1, 0, 0, 0, 0, 1, 1]])"
   ]
  },
  {
   "cell_type": "code",
   "execution_count": null,
   "id": "be550a28",
   "metadata": {},
   "outputs": [],
   "source": []
  },
  {
   "cell_type": "code",
   "execution_count": 8,
   "id": "39ab432b",
   "metadata": {},
   "outputs": [],
   "source": [
    "## Resnet18 모델 생성"
   ]
  },
  {
   "cell_type": "code",
   "execution_count": 9,
   "id": "d5db7c85",
   "metadata": {},
   "outputs": [
    {
     "name": "stderr",
     "output_type": "stream",
     "text": [
      "C:\\Users\\fly4h\\anaconda3\\lib\\site-packages\\torchvision\\models\\_utils.py:208: UserWarning: The parameter 'pretrained' is deprecated since 0.13 and will be removed in 0.15, please use 'weights' instead.\n",
      "  warnings.warn(\n",
      "C:\\Users\\fly4h\\anaconda3\\lib\\site-packages\\torchvision\\models\\_utils.py:223: UserWarning: Arguments other than a weight enum or `None` for 'weights' are deprecated since 0.13 and will be removed in 0.15. The current behavior is equivalent to passing `weights=ResNet18_Weights.IMAGENET1K_V1`. You can also use `weights=ResNet18_Weights.DEFAULT` to get the most up-to-date weights.\n",
      "  warnings.warn(msg)\n"
     ]
    }
   ],
   "source": [
    "resnet18 = models.resnet18(pretrained = True)\n",
    "resnet18.fc = nn.Linear(512, num_classes)"
   ]
  },
  {
   "cell_type": "code",
   "execution_count": null,
   "id": "8e3ad0f2",
   "metadata": {},
   "outputs": [],
   "source": []
  },
  {
   "cell_type": "code",
   "execution_count": 10,
   "id": "6fa687fd",
   "metadata": {},
   "outputs": [],
   "source": [
    "resnet18 = resnet18.cuda()\n",
    "optimizer = optim.Adam(resnet18.parameters(), lr = lr, weight_decay = 0.00001)\n",
    "criterion = nn.MSELoss()"
   ]
  },
  {
   "cell_type": "code",
   "execution_count": null,
   "id": "82450007",
   "metadata": {},
   "outputs": [],
   "source": []
  },
  {
   "cell_type": "code",
   "execution_count": 11,
   "id": "ba323fc2",
   "metadata": {},
   "outputs": [],
   "source": [
    "## 모델 학습"
   ]
  },
  {
   "cell_type": "code",
   "execution_count": 12,
   "id": "4c7a1363",
   "metadata": {},
   "outputs": [],
   "source": [
    "label_encoding = label_encoding.cuda()"
   ]
  },
  {
   "cell_type": "code",
   "execution_count": 13,
   "id": "d5af51d4",
   "metadata": {},
   "outputs": [
    {
     "name": "stdout",
     "output_type": "stream",
     "text": [
      "epoch :   1, test acc : 71.610%, train loss : 57.0692\n",
      "epoch :   2, test acc : 75.800%, train loss : 34.5163\n",
      "epoch :   3, test acc : 76.850%, train loss : 27.9506\n",
      "epoch :   4, test acc : 77.670%, train loss : 24.3476\n",
      "epoch :   5, test acc : 78.100%, train loss : 22.5976\n",
      "epoch :   6, test acc : 78.670%, train loss : 18.5354\n",
      "epoch :   7, test acc : 78.280%, train loss : 16.3953\n",
      "epoch :   8, test acc : 78.550%, train loss : 17.4177\n",
      "epoch :   9, test acc : 78.360%, train loss : 18.5896\n",
      "epoch :  10, test acc : 80.150%, train loss : 13.8135\n",
      "epoch :  11, test acc : 80.170%, train loss : 9.5866\n",
      "epoch :  12, test acc : 79.870%, train loss : 8.5625\n",
      "epoch :  13, test acc : 79.530%, train loss : 8.2100\n",
      "epoch :  14, test acc : 79.590%, train loss : 8.7867\n",
      "epoch :  15, test acc : 79.560%, train loss : 7.8812\n",
      "epoch :  16, test acc : 79.840%, train loss : 6.7981\n",
      "epoch :  17, test acc : 79.390%, train loss : 6.3856\n",
      "epoch :  18, test acc : 80.070%, train loss : 6.4910\n",
      "epoch :  19, test acc : 79.260%, train loss : 6.3052\n",
      "epoch :  20, test acc : 79.780%, train loss : 5.8871\n",
      "epoch :  21, test acc : 79.970%, train loss : 5.6013\n",
      "epoch :  22, test acc : 79.580%, train loss : 5.6383\n",
      "epoch :  23, test acc : 79.540%, train loss : 5.3593\n",
      "epoch :  24, test acc : 79.100%, train loss : 5.0064\n",
      "epoch :  25, test acc : 78.460%, train loss : 5.8551\n",
      "epoch :  26, test acc : 79.730%, train loss : 5.2466\n",
      "epoch :  27, test acc : 79.320%, train loss : 4.4932\n",
      "epoch :  28, test acc : 80.160%, train loss : 4.8842\n",
      "epoch :  29, test acc : 79.150%, train loss : 4.2006\n",
      "epoch :  30, test acc : 78.710%, train loss : 4.3148\n",
      "epoch :  31, test acc : 79.900%, train loss : 4.3788\n",
      "epoch :  32, test acc : 79.110%, train loss : 4.1953\n",
      "epoch :  33, test acc : 79.140%, train loss : 4.0411\n",
      "epoch :  34, test acc : 79.630%, train loss : 4.0331\n",
      "epoch :  35, test acc : 80.180%, train loss : 4.4423\n",
      "epoch :  36, test acc : 79.640%, train loss : 4.1540\n",
      "epoch :  37, test acc : 79.530%, train loss : 4.1192\n",
      "epoch :  38, test acc : 79.990%, train loss : 3.9641\n",
      "epoch :  39, test acc : 79.570%, train loss : 3.6076\n",
      "epoch :  40, test acc : 79.570%, train loss : 3.8953\n",
      "epoch :  41, test acc : 79.900%, train loss : 3.3517\n",
      "epoch :  42, test acc : 79.670%, train loss : 4.0352\n",
      "epoch :  43, test acc : 80.060%, train loss : 3.8625\n",
      "epoch :  44, test acc : 79.680%, train loss : 3.5463\n",
      "epoch :  45, test acc : 79.730%, train loss : 3.3882\n",
      "epoch :  46, test acc : 79.430%, train loss : 3.7032\n",
      "epoch :  47, test acc : 79.580%, train loss : 3.6686\n",
      "epoch :  48, test acc : 78.860%, train loss : 3.3437\n",
      "epoch :  49, test acc : 79.580%, train loss : 3.7731\n",
      "epoch :  50, test acc : 79.830%, train loss : 3.2256\n"
     ]
    }
   ],
   "source": [
    "for epoch in range(epochs):\n",
    "    train_loss = 0\n",
    "    for i, (train_data, train_label) in enumerate(trainloader):\n",
    "        \n",
    "        train_data = train_data.cuda()\n",
    "        train_label = train_label.cuda()\n",
    "        train_ecoc_label = label_encoding[train_label]\n",
    "        \n",
    "        optimizer.zero_grad()\n",
    "        \n",
    "        train_output = resnet18(train_data)\n",
    "        loss = criterion(train_output, train_ecoc_label)\n",
    "        \n",
    "        loss.backward()\n",
    "        optimizer.step()\n",
    "        \n",
    "        train_loss = train_loss + loss.item()\n",
    "        \n",
    "    with torch.no_grad():\n",
    "        correct = 0\n",
    "        total = 0\n",
    "        for i, (test_data, test_label) in enumerate(testloader):\n",
    "            \n",
    "            test_data = test_data.cuda()\n",
    "            test_label = test_label.cuda()\n",
    "            \n",
    "            test_output = resnet18(test_data)\n",
    "            \n",
    "            total = total + len(test_label)\n",
    "            for j in range(len(test_output)):\n",
    "                correct = correct + ((test_output[j] * label_encoding).sum(1).max(0)[1] == test_label[j]).item()\n",
    "            \n",
    "        print(\"epoch : {:3d}, test acc : {:3.3f}%, train loss : {:3.4f}\".format(epoch + 1, correct / total * 100, train_loss))"
   ]
  },
  {
   "cell_type": "code",
   "execution_count": null,
   "id": "ab3910d3",
   "metadata": {},
   "outputs": [],
   "source": []
  },
  {
   "cell_type": "code",
   "execution_count": 14,
   "id": "28f443da",
   "metadata": {},
   "outputs": [],
   "source": [
    "## 모델 저장"
   ]
  },
  {
   "cell_type": "code",
   "execution_count": 15,
   "id": "b1113266",
   "metadata": {},
   "outputs": [],
   "source": [
    "resnet18 = resnet18.cpu()\n",
    "path = 'TrainedModel/Resnet18(ECOC).pt'\n",
    "torch.save(resnet18, path)"
   ]
  }
 ],
 "metadata": {
  "kernelspec": {
   "display_name": "Python 3 (ipykernel)",
   "language": "python",
   "name": "python3"
  },
  "language_info": {
   "codemirror_mode": {
    "name": "ipython",
    "version": 3
   },
   "file_extension": ".py",
   "mimetype": "text/x-python",
   "name": "python",
   "nbconvert_exporter": "python",
   "pygments_lexer": "ipython3",
   "version": "3.9.12"
  }
 },
 "nbformat": 4,
 "nbformat_minor": 5
}
