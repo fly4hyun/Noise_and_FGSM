{
 "cells": [
  {
   "cell_type": "code",
   "execution_count": 1,
   "id": "2d5e87b4",
   "metadata": {},
   "outputs": [],
   "source": [
    "import torch\n",
    "import torch.nn as nn\n",
    "import torch.nn.functional as F\n",
    "import torch.optim as optim\n",
    "import torchvision\n",
    "import torchvision.transforms as transforms\n",
    "from torch.utils.data import Dataset\n",
    "from torchvision import models"
   ]
  },
  {
   "cell_type": "code",
   "execution_count": null,
   "id": "e8ded029",
   "metadata": {},
   "outputs": [],
   "source": []
  },
  {
   "cell_type": "code",
   "execution_count": 2,
   "id": "b827cb2e",
   "metadata": {},
   "outputs": [],
   "source": [
    "## 파라메타 설정"
   ]
  },
  {
   "cell_type": "code",
   "execution_count": 3,
   "id": "1590a298",
   "metadata": {},
   "outputs": [],
   "source": [
    "batch_size = 128\n",
    "epochs = 50\n",
    "lr = 0.001"
   ]
  },
  {
   "cell_type": "code",
   "execution_count": 4,
   "id": "f195e95e",
   "metadata": {},
   "outputs": [
    {
     "name": "stdout",
     "output_type": "stream",
     "text": [
      "cuda is avaulable\n"
     ]
    }
   ],
   "source": [
    "device = 'cuda' if torch.cuda.is_available() else 'cpu'\n",
    "torch.manual_seed(444)\n",
    "if device == 'cuda':\n",
    "    torch.cuda.manual_seed_all(444)\n",
    "print(device + ' is avaulable')"
   ]
  },
  {
   "cell_type": "code",
   "execution_count": null,
   "id": "50ba5742",
   "metadata": {},
   "outputs": [],
   "source": []
  },
  {
   "cell_type": "code",
   "execution_count": 5,
   "id": "afb68ceb",
   "metadata": {},
   "outputs": [
    {
     "name": "stdout",
     "output_type": "stream",
     "text": [
      "Files already downloaded and verified\n",
      "Files already downloaded and verified\n"
     ]
    }
   ],
   "source": [
    "transform = transforms.Compose([transforms.ToTensor(), transforms.Normalize((0.5, 0.5, 0.5), (0.5, 0.5, 0.5))])\n",
    "\n",
    "trainset = torchvision.datasets.CIFAR10(root = './data', train = True, download = True, transform = transform)\n",
    "trainloader = torch.utils.data.DataLoader(trainset, batch_size = batch_size, shuffle = True, num_workers = 2)\n",
    "\n",
    "testset = torchvision.datasets.CIFAR10(root = './data', train = False, download = True, transform = transform)\n",
    "testloader = torch.utils.data.DataLoader(testset, batch_size = batch_size, shuffle = False, num_workers = 2)\n",
    "\n",
    "classes = ('plane', 'car', 'bird', 'cat', 'deer', 'dog', 'frog', 'horse', 'ship', 'truck')\n",
    "num_classes = 10"
   ]
  },
  {
   "cell_type": "code",
   "execution_count": null,
   "id": "be550a28",
   "metadata": {},
   "outputs": [],
   "source": []
  },
  {
   "cell_type": "code",
   "execution_count": 6,
   "id": "39ab432b",
   "metadata": {},
   "outputs": [],
   "source": [
    "## Resnet18 모델 생성"
   ]
  },
  {
   "cell_type": "code",
   "execution_count": 7,
   "id": "d5db7c85",
   "metadata": {},
   "outputs": [
    {
     "name": "stderr",
     "output_type": "stream",
     "text": [
      "C:\\Users\\fly4h\\anaconda3\\lib\\site-packages\\torchvision\\models\\_utils.py:208: UserWarning: The parameter 'pretrained' is deprecated since 0.13 and will be removed in 0.15, please use 'weights' instead.\n",
      "  warnings.warn(\n",
      "C:\\Users\\fly4h\\anaconda3\\lib\\site-packages\\torchvision\\models\\_utils.py:223: UserWarning: Arguments other than a weight enum or `None` for 'weights' are deprecated since 0.13 and will be removed in 0.15. The current behavior is equivalent to passing `weights=ResNet18_Weights.IMAGENET1K_V1`. You can also use `weights=ResNet18_Weights.DEFAULT` to get the most up-to-date weights.\n",
      "  warnings.warn(msg)\n"
     ]
    }
   ],
   "source": [
    "resnet18 = models.resnet18(pretrained = True)\n",
    "resnet18.fc = nn.Linear(512, num_classes)"
   ]
  },
  {
   "cell_type": "code",
   "execution_count": null,
   "id": "8e3ad0f2",
   "metadata": {},
   "outputs": [],
   "source": []
  },
  {
   "cell_type": "code",
   "execution_count": 8,
   "id": "6fa687fd",
   "metadata": {},
   "outputs": [],
   "source": [
    "#resnet18 = ResNet18().cuda()\n",
    "resnet18 = resnet18.cuda()\n",
    "optimizer = optim.Adam(resnet18.parameters(), lr = lr, weight_decay = 0.00001)\n",
    "criterion = nn.CrossEntropyLoss()"
   ]
  },
  {
   "cell_type": "code",
   "execution_count": null,
   "id": "82450007",
   "metadata": {},
   "outputs": [],
   "source": []
  },
  {
   "cell_type": "code",
   "execution_count": 9,
   "id": "ba323fc2",
   "metadata": {},
   "outputs": [],
   "source": [
    "## 모델 학습"
   ]
  },
  {
   "cell_type": "code",
   "execution_count": null,
   "id": "d5af51d4",
   "metadata": {},
   "outputs": [
    {
     "name": "stdout",
     "output_type": "stream",
     "text": [
      "epoch :   1, test acc : 76.780%, train loss : 351.3592\n",
      "epoch :   2, test acc : 78.780%, train loss : 224.2425\n"
     ]
    }
   ],
   "source": [
    "for epoch in range(epochs):\n",
    "    train_loss = 0\n",
    "    for i, (train_data, train_label) in enumerate(trainloader):\n",
    "        \n",
    "        train_data = train_data.cuda()\n",
    "        train_label = train_label.cuda()\n",
    "        \n",
    "        optimizer.zero_grad()\n",
    "        \n",
    "        train_output = resnet18(train_data)\n",
    "        loss = criterion(train_output, train_label)\n",
    "        \n",
    "        loss.backward()\n",
    "        optimizer.step()\n",
    "        \n",
    "        train_loss = train_loss + loss.item()\n",
    "        \n",
    "    with torch.no_grad():\n",
    "        correct = 0\n",
    "        total = 0\n",
    "        for i, (test_data, test_label) in enumerate(testloader):\n",
    "            \n",
    "            test_data = test_data.cuda()\n",
    "            test_label = test_label.cuda()\n",
    "            \n",
    "            test_output = resnet18(test_data)\n",
    "            \n",
    "            total = total + len(test_label)\n",
    "            correct = correct + (test_output.max(1)[1] == test_label).sum()\n",
    "            \n",
    "        print(\"epoch : {:3d}, test acc : {:3.3f}%, train loss : {:3.4f}\".format(epoch + 1, correct / total * 100, train_loss))"
   ]
  },
  {
   "cell_type": "code",
   "execution_count": null,
   "id": "059ad674",
   "metadata": {},
   "outputs": [],
   "source": []
  },
  {
   "cell_type": "code",
   "execution_count": null,
   "id": "28f443da",
   "metadata": {},
   "outputs": [],
   "source": [
    "## 모델 저장"
   ]
  },
  {
   "cell_type": "code",
   "execution_count": null,
   "id": "b1113266",
   "metadata": {},
   "outputs": [],
   "source": [
    "resnet18 = resnet18.cpu()\n",
    "path = 'TrainedModel/Resnet18(OneHotEncoding).pt'\n",
    "torch.save(resnet18, path)"
   ]
  }
 ],
 "metadata": {
  "kernelspec": {
   "display_name": "Python 3 (ipykernel)",
   "language": "python",
   "name": "python3"
  },
  "language_info": {
   "codemirror_mode": {
    "name": "ipython",
    "version": 3
   },
   "file_extension": ".py",
   "mimetype": "text/x-python",
   "name": "python",
   "nbconvert_exporter": "python",
   "pygments_lexer": "ipython3",
   "version": "3.9.12"
  }
 },
 "nbformat": 4,
 "nbformat_minor": 5
}
