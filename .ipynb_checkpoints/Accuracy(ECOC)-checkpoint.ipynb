{
 "cells": [
  {
   "cell_type": "code",
   "execution_count": 1,
   "id": "a319bbb7",
   "metadata": {},
   "outputs": [],
   "source": [
    "import torch\n",
    "import torch.nn as nn\n",
    "import torch.nn.functional as F\n",
    "import torch.optim as optim\n",
    "import torchvision\n",
    "import torchvision.transforms as transforms\n",
    "from torch.utils.data import Dataset\n",
    "from torchvision import models\n",
    "\n",
    "from skimage.util import random_noise"
   ]
  },
  {
   "cell_type": "code",
   "execution_count": null,
   "id": "34aced20",
   "metadata": {},
   "outputs": [],
   "source": []
  },
  {
   "cell_type": "code",
   "execution_count": 2,
   "id": "4ffd0151",
   "metadata": {},
   "outputs": [],
   "source": [
    "batch_size = 128"
   ]
  },
  {
   "cell_type": "code",
   "execution_count": 3,
   "id": "483a5c0c",
   "metadata": {},
   "outputs": [
    {
     "name": "stdout",
     "output_type": "stream",
     "text": [
      "cuda is avaulable\n"
     ]
    }
   ],
   "source": [
    "device = 'cuda' if torch.cuda.is_available() else 'cpu'\n",
    "torch.manual_seed(444)\n",
    "if device == 'cuda':\n",
    "    torch.cuda.manual_seed_all(444)\n",
    "print(device + ' is avaulable')"
   ]
  },
  {
   "cell_type": "code",
   "execution_count": null,
   "id": "321c863f",
   "metadata": {},
   "outputs": [],
   "source": []
  },
  {
   "cell_type": "code",
   "execution_count": 4,
   "id": "1e92d5e8",
   "metadata": {},
   "outputs": [
    {
     "name": "stdout",
     "output_type": "stream",
     "text": [
      "Files already downloaded and verified\n"
     ]
    }
   ],
   "source": [
    "transform = transforms.Compose([transforms.ToTensor(), transforms.Normalize((0.5, 0.5, 0.5), (0.5, 0.5, 0.5))])\n",
    "\n",
    "testset = torchvision.datasets.CIFAR10(root = './data', train = False, download = True, transform = transform)\n",
    "testloader = torch.utils.data.DataLoader(testset, batch_size = batch_size, shuffle = False, num_workers = 2)\n",
    "\n",
    "classes = ('plane', 'car', 'bird', 'cat', 'deer', 'dog', 'frog', 'horse', 'ship', 'truck')\n",
    "num_classes = 10"
   ]
  },
  {
   "cell_type": "code",
   "execution_count": null,
   "id": "f0aa1cae",
   "metadata": {},
   "outputs": [],
   "source": []
  },
  {
   "cell_type": "code",
   "execution_count": null,
   "id": "d875b17e",
   "metadata": {},
   "outputs": [],
   "source": [
    "## one-hot encoding"
   ]
  },
  {
   "cell_type": "code",
   "execution_count": null,
   "id": "97efcbe7",
   "metadata": {},
   "outputs": [],
   "source": [
    "label_encoding = torch.FloatTensor([[1, 0, 0, 0, 0, 0, 0, 0, 0, 0],\n",
    "                                    [0, 1, 0, 0, 0, 0, 0, 0, 0, 0],\n",
    "                                    [0, 0, 1, 0, 0, 0, 0, 0, 0, 0],\n",
    "                                    [0, 0, 0, 1, 0, 0, 0, 0, 0, 0],\n",
    "                                    [0, 0, 0, 0, 1, 0, 0, 0, 0, 0],\n",
    "                                    [0, 0, 0, 0, 0, 1, 0, 0, 0, 0],\n",
    "                                    [0, 0, 0, 0, 0, 0, 1, 0, 0, 0],\n",
    "                                    [0, 0, 0, 0, 0, 0, 0, 1, 0, 0],\n",
    "                                    [0, 0, 0, 0, 0, 0, 0, 0, 1, 0],\n",
    "                                    [0, 0, 0, 0, 0, 0, 0, 0, 0, 1],])"
   ]
  },
  {
   "cell_type": "code",
   "execution_count": null,
   "id": "4df0570e",
   "metadata": {},
   "outputs": [],
   "source": []
  },
  {
   "cell_type": "code",
   "execution_count": 5,
   "id": "f3427e5c",
   "metadata": {},
   "outputs": [],
   "source": [
    "path = 'TrainedModel/Resnet18(OneHotEncoding).pt'\n",
    "resnet18 = torch.load(path)\n",
    "resnet18.eval()\n",
    "resnet18 = resnet18.cuda()"
   ]
  },
  {
   "cell_type": "code",
   "execution_count": null,
   "id": "ea143031",
   "metadata": {},
   "outputs": [],
   "source": []
  },
  {
   "cell_type": "code",
   "execution_count": 6,
   "id": "8f01a8c1",
   "metadata": {},
   "outputs": [],
   "source": [
    "## negative"
   ]
  },
  {
   "cell_type": "code",
   "execution_count": 7,
   "id": "1590c2fe",
   "metadata": {},
   "outputs": [
    {
     "name": "stdout",
     "output_type": "stream",
     "text": [
      "Negative data test acc : 42.780%\n"
     ]
    }
   ],
   "source": [
    "with torch.no_grad():\n",
    "    negative_correct = 0\n",
    "    negative_total = 0\n",
    "    negative_acc = 0\n",
    "    for i, (test_data, test_label) in enumerate(testloader):\n",
    "\n",
    "        test_data = test_data.cuda()\n",
    "        test_label = test_label.cuda()\n",
    "        \n",
    "        negative_test_data = 0 - test_data\n",
    "\n",
    "        test_output = resnet18(negative_test_data)\n",
    "\n",
    "        negative_total = negative_total + len(test_label)\n",
    "        negative_correct = negative_correct + (test_output.max(1)[1] == test_label).sum()\n",
    "        \n",
    "    negative_acc = negative_correct / negative_total * 100\n",
    "    print(\"Negative data test acc : {:3.3f}%\".format(negative_acc))"
   ]
  },
  {
   "cell_type": "code",
   "execution_count": null,
   "id": "0d2c7777",
   "metadata": {},
   "outputs": [],
   "source": []
  },
  {
   "cell_type": "code",
   "execution_count": 8,
   "id": "cdd94d58",
   "metadata": {},
   "outputs": [],
   "source": [
    "## Gaussian noise"
   ]
  },
  {
   "cell_type": "code",
   "execution_count": 9,
   "id": "109e1914",
   "metadata": {},
   "outputs": [],
   "source": [
    "gaussian_noise_mean = 0\n",
    "gaussian_noise_var = [i ** 2 * 0.01 for i in range(10)]\n",
    "gaussian_noise_correct = [0 for i in range(10)]\n",
    "gaussian_noise_total = [0 for i in range(10)]\n",
    "gaussian_noise_acc = [0 for i in range(10)]"
   ]
  },
  {
   "cell_type": "code",
   "execution_count": 10,
   "id": "bdaad243",
   "metadata": {},
   "outputs": [
    {
     "name": "stdout",
     "output_type": "stream",
     "text": [
      "Gaussian noise data (var : 0.000) test acc : 81.050%\n",
      "Gaussian noise data (var : 0.010) test acc : 76.770%\n",
      "Gaussian noise data (var : 0.040) test acc : 61.690%\n",
      "Gaussian noise data (var : 0.090) test acc : 47.200%\n",
      "Gaussian noise data (var : 0.160) test acc : 35.790%\n",
      "Gaussian noise data (var : 0.250) test acc : 28.030%\n",
      "Gaussian noise data (var : 0.360) test acc : 22.630%\n",
      "Gaussian noise data (var : 0.490) test acc : 19.660%\n",
      "Gaussian noise data (var : 0.640) test acc : 17.200%\n",
      "Gaussian noise data (var : 0.810) test acc : 15.350%\n"
     ]
    }
   ],
   "source": [
    "with torch.no_grad():\n",
    "    for i in range(10):\n",
    "        for _, (test_data, test_label) in enumerate(testloader):\n",
    "            \n",
    "            gaussian_noise_test_data = torch.tensor(random_noise(test_data, mode = 'gaussian', mean = gaussian_noise_mean, var = gaussian_noise_var[i], clip = True))\n",
    "            \n",
    "            gaussian_noise_test_data = gaussian_noise_test_data.to(device, dtype=torch.float)\n",
    "            test_label = test_label.cuda()\n",
    "\n",
    "            test_output = resnet18(gaussian_noise_test_data)\n",
    "\n",
    "            gaussian_noise_total[i] = gaussian_noise_total[i] + len(test_label)\n",
    "            gaussian_noise_correct[i] = gaussian_noise_correct[i] + (test_output.max(1)[1] == test_label).sum()\n",
    "            \n",
    "        gaussian_noise_acc[i] = gaussian_noise_correct[i] / gaussian_noise_total[i] * 100\n",
    "        print(\"Gaussian noise data (var : {:.3f}) test acc : {:3.3f}%\".format(gaussian_noise_var[i], gaussian_noise_correct[i] / gaussian_noise_total[i] * 100))"
   ]
  },
  {
   "cell_type": "code",
   "execution_count": null,
   "id": "fe8d6be7",
   "metadata": {},
   "outputs": [],
   "source": []
  },
  {
   "cell_type": "code",
   "execution_count": 11,
   "id": "54b80324",
   "metadata": {},
   "outputs": [],
   "source": [
    "## Gaussian blur"
   ]
  },
  {
   "cell_type": "code",
   "execution_count": 12,
   "id": "aa34c37f",
   "metadata": {},
   "outputs": [],
   "source": [
    "gaussian_blur_sigma = [2 - i ** 2 * 0.02 for i in range(10)]\n",
    "gaussian_blur_correct = [0 for i in range(10)]\n",
    "gaussian_blur_total = [0 for i in range(10)]\n",
    "gaussian_blur_acc = [0 for i in range(10)]"
   ]
  },
  {
   "cell_type": "code",
   "execution_count": 14,
   "id": "bb1e5b5e",
   "metadata": {},
   "outputs": [
    {
     "name": "stdout",
     "output_type": "stream",
     "text": [
      "Gaussian blur data (sigma : 2.000) test acc : 34.200%\n",
      "Gaussian blur data (sigma : 1.980) test acc : 34.190%\n",
      "Gaussian blur data (sigma : 1.920) test acc : 34.320%\n",
      "Gaussian blur data (sigma : 1.820) test acc : 34.540%\n",
      "Gaussian blur data (sigma : 1.680) test acc : 35.130%\n",
      "Gaussian blur data (sigma : 1.500) test acc : 36.420%\n",
      "Gaussian blur data (sigma : 1.280) test acc : 39.220%\n",
      "Gaussian blur data (sigma : 1.020) test acc : 46.750%\n",
      "Gaussian blur data (sigma : 0.720) test acc : 65.390%\n",
      "Gaussian blur data (sigma : 0.380) test acc : 80.820%\n"
     ]
    }
   ],
   "source": [
    "with torch.no_grad():\n",
    "    for i in range(10):\n",
    "        gaussian_blur_transform = transforms.Compose([transforms.GaussianBlur(kernel_size = 5, sigma = gaussian_blur_sigma[i])])\n",
    "        for _, (test_data, test_label) in enumerate(testloader):\n",
    "            \n",
    "            gaussian_blur_test_data = gaussian_blur_transform(test_data)\n",
    "            \n",
    "            gaussian_blur_test_data = gaussian_blur_test_data.to(device, dtype=torch.float)\n",
    "            test_label = test_label.cuda()\n",
    "\n",
    "            test_output = resnet18(gaussian_blur_test_data)\n",
    "\n",
    "            gaussian_blur_total[i] = gaussian_blur_total[i] + len(test_label)\n",
    "            gaussian_blur_correct[i] = gaussian_blur_correct[i] + (test_output.max(1)[1] == test_label).sum()\n",
    "        \n",
    "        gaussian_blur_acc[i] = gaussian_blur_correct[i] / gaussian_blur_total[i] * 100\n",
    "        print(\"Gaussian blur data (sigma : {:.3f}) test acc : {:3.3f}%\".format(gaussian_blur_sigma[i], gaussian_blur_acc[i]))"
   ]
  },
  {
   "cell_type": "code",
   "execution_count": null,
   "id": "0e9c0e1c",
   "metadata": {},
   "outputs": [],
   "source": []
  },
  {
   "cell_type": "code",
   "execution_count": 15,
   "id": "f433e651",
   "metadata": {},
   "outputs": [],
   "source": [
    "## Salt and Pepper"
   ]
  },
  {
   "cell_type": "code",
   "execution_count": 16,
   "id": "bb0682ab",
   "metadata": {},
   "outputs": [],
   "source": [
    "salt_and_pepper_val = 0.5\n",
    "salt_and_pepper_amount = [i ** 2 * 0.01 for i in range(10)]\n",
    "salt_and_pepper_correct = [0 for i in range(10)]\n",
    "salt_and_pepper_total = [0 for i in range(10)]\n",
    "salt_and_pepper_acc = [0 for i in range(10)]"
   ]
  },
  {
   "cell_type": "code",
   "execution_count": 17,
   "id": "b1d70acf",
   "metadata": {},
   "outputs": [
    {
     "name": "stdout",
     "output_type": "stream",
     "text": [
      "Salt and Pepper data (amount : 0.000) test acc : 81.050%\n",
      "Salt and Pepper data (amount : 0.010) test acc : 75.010%\n",
      "Salt and Pepper data (amount : 0.040) test acc : 57.550%\n",
      "Salt and Pepper data (amount : 0.090) test acc : 39.960%\n",
      "Salt and Pepper data (amount : 0.160) test acc : 27.780%\n",
      "Salt and Pepper data (amount : 0.250) test acc : 19.130%\n",
      "Salt and Pepper data (amount : 0.360) test acc : 14.750%\n",
      "Salt and Pepper data (amount : 0.490) test acc : 12.110%\n",
      "Salt and Pepper data (amount : 0.640) test acc : 10.730%\n",
      "Salt and Pepper data (amount : 0.810) test acc : 10.570%\n"
     ]
    }
   ],
   "source": [
    "with torch.no_grad():\n",
    "    for i in range(10):\n",
    "        for _, (test_data, test_label) in enumerate(testloader):\n",
    "            \n",
    "            salt_and_pepper_test_data = torch.tensor(random_noise(test_data, mode = 's&p', amount = salt_and_pepper_amount[i], salt_vs_pepper = salt_and_pepper_val, clip = True))\n",
    "            \n",
    "            salt_and_pepper_test_data = salt_and_pepper_test_data.to(device, dtype=torch.float)\n",
    "            test_label = test_label.cuda()\n",
    "\n",
    "            test_output = resnet18(salt_and_pepper_test_data)\n",
    "\n",
    "            salt_and_pepper_total[i] = salt_and_pepper_total[i] + len(test_label)\n",
    "            salt_and_pepper_correct[i] = salt_and_pepper_correct[i] + (test_output.max(1)[1] == test_label).sum()\n",
    "\n",
    "        salt_and_pepper_acc[i] = salt_and_pepper_correct[i] / salt_and_pepper_total[i] * 100\n",
    "        print(\"Salt and Pepper data (amount : {:.3f}) test acc : {:3.3f}%\".format(salt_and_pepper_amount[i], salt_and_pepper_acc[i]))"
   ]
  },
  {
   "cell_type": "code",
   "execution_count": null,
   "id": "2734f7b3",
   "metadata": {},
   "outputs": [],
   "source": []
  },
  {
   "cell_type": "code",
   "execution_count": 18,
   "id": "7c2c0638",
   "metadata": {},
   "outputs": [],
   "source": [
    "## FGSM (Fast Gradient Signed Method)"
   ]
  },
  {
   "cell_type": "code",
   "execution_count": 19,
   "id": "9f02b82d",
   "metadata": {},
   "outputs": [],
   "source": [
    "fgsm_epsilons = [i ** 2 * 0.001 for i in range(10)]\n",
    "fgsm_correct = [0 for i in range(10)]\n",
    "fgsm_total = [0 for i in range(10)]\n",
    "fgsm_acc = [0 for i in range(10)]"
   ]
  },
  {
   "cell_type": "code",
   "execution_count": null,
   "id": "69f658af",
   "metadata": {},
   "outputs": [],
   "source": [
    "label_encoding = label_encoding.cuda()"
   ]
  },
  {
   "cell_type": "code",
   "execution_count": 20,
   "id": "25469815",
   "metadata": {},
   "outputs": [
    {
     "name": "stdout",
     "output_type": "stream",
     "text": [
      "FGSM data (epsilons : 0.000) test acc : 81.050%\n",
      "FGSM data (epsilons : 0.001) test acc : 77.490%\n",
      "FGSM data (epsilons : 0.004) test acc : 67.030%\n",
      "FGSM data (epsilons : 0.009) test acc : 50.670%\n",
      "FGSM data (epsilons : 0.016) test acc : 33.670%\n",
      "FGSM data (epsilons : 0.025) test acc : 21.160%\n",
      "FGSM data (epsilons : 0.036) test acc : 13.310%\n",
      "FGSM data (epsilons : 0.049) test acc : 8.650%\n",
      "FGSM data (epsilons : 0.064) test acc : 6.170%\n",
      "FGSM data (epsilons : 0.081) test acc : 4.880%\n"
     ]
    }
   ],
   "source": [
    "for i in range(10):\n",
    "    for _, (test_data, test_label) in enumerate(testloader):\n",
    "\n",
    "        test_data = test_data.cuda()\n",
    "        test_label = test_label.cuda()\n",
    "        test_one_hot_label = label_encoding[test_label]\n",
    "        \n",
    "        test_data.requires_grad = True\n",
    "\n",
    "        fgsm_test_data = resnet18(test_data)\n",
    "        fgsm_pred = fgsm_test_data.max(1, keepdim = True)[1]\n",
    "\n",
    "        fgsm_loss = F.nll_loss(fgsm_test_data, test_one_hot_label)\n",
    "        resnet18.zero_grad()\n",
    "        fgsm_loss.backward()\n",
    "\n",
    "        test_data_grad = test_data.grad.data\n",
    "\n",
    "        sign_test_data_grad = test_data_grad.sign()\n",
    "        FGSM_images = test_data + fgsm_epsilons[i] * sign_test_data_grad\n",
    "        FGSM_images = torch.clamp(FGSM_images, -1, 1)\n",
    "\n",
    "        test_output = resnet18(FGSM_images)\n",
    "\n",
    "        fgsm_total[i] = fgsm_total[i] + len(test_label)\n",
    "        fgsm_correct[i] = fgsm_correct[i] + (test_output.max(1)[1] == test_label).sum()\n",
    "\n",
    "    fgsm_acc[i] = fgsm_correct[i] / fgsm_total[i] * 100\n",
    "    print(\"FGSM data (epsilons : {:.3f}) test acc : {:3.3f}%\".format(fgsm_epsilons[i], fgsm_acc[i]))"
   ]
  },
  {
   "cell_type": "code",
   "execution_count": null,
   "id": "1d7451df",
   "metadata": {},
   "outputs": [],
   "source": []
  },
  {
   "cell_type": "code",
   "execution_count": null,
   "id": "dca049dc",
   "metadata": {},
   "outputs": [],
   "source": []
  },
  {
   "cell_type": "code",
   "execution_count": null,
   "id": "202c542a",
   "metadata": {},
   "outputs": [],
   "source": []
  },
  {
   "cell_type": "code",
   "execution_count": null,
   "id": "6c24c409",
   "metadata": {},
   "outputs": [],
   "source": []
  },
  {
   "cell_type": "code",
   "execution_count": null,
   "id": "a662bb3d",
   "metadata": {},
   "outputs": [],
   "source": []
  },
  {
   "cell_type": "code",
   "execution_count": null,
   "id": "e7d21308",
   "metadata": {},
   "outputs": [],
   "source": []
  },
  {
   "cell_type": "code",
   "execution_count": null,
   "id": "775da227",
   "metadata": {},
   "outputs": [],
   "source": []
  },
  {
   "cell_type": "code",
   "execution_count": null,
   "id": "fa01c4c1",
   "metadata": {},
   "outputs": [],
   "source": []
  }
 ],
 "metadata": {
  "kernelspec": {
   "display_name": "Python 3 (ipykernel)",
   "language": "python",
   "name": "python3"
  },
  "language_info": {
   "codemirror_mode": {
    "name": "ipython",
    "version": 3
   },
   "file_extension": ".py",
   "mimetype": "text/x-python",
   "name": "python",
   "nbconvert_exporter": "python",
   "pygments_lexer": "ipython3",
   "version": "3.9.12"
  }
 },
 "nbformat": 4,
 "nbformat_minor": 5
}
