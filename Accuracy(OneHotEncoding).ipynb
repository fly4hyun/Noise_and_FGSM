{
 "cells": [
  {
   "cell_type": "code",
   "execution_count": 1,
   "id": "1516ae7a",
   "metadata": {},
   "outputs": [],
   "source": [
    "import torch\n",
    "import torch.nn as nn\n",
    "import torch.nn.functional as F\n",
    "import torch.optim as optim\n",
    "import torchvision\n",
    "import torchvision.transforms as transforms\n",
    "from torch.utils.data import Dataset\n",
    "from torchvision import models\n",
    "\n",
    "from skimage.util import random_noise\n",
    "\n",
    "import sys"
   ]
  },
  {
   "cell_type": "code",
   "execution_count": null,
   "id": "158ac4ae",
   "metadata": {},
   "outputs": [],
   "source": []
  },
  {
   "cell_type": "code",
   "execution_count": 2,
   "id": "3322db55",
   "metadata": {},
   "outputs": [],
   "source": [
    "batch_size = 128"
   ]
  },
  {
   "cell_type": "code",
   "execution_count": 3,
   "id": "95fb7c5c",
   "metadata": {},
   "outputs": [
    {
     "name": "stdout",
     "output_type": "stream",
     "text": [
      "cuda is avaulable\n"
     ]
    }
   ],
   "source": [
    "device = 'cuda' if torch.cuda.is_available() else 'cpu'\n",
    "torch.manual_seed(444)\n",
    "if device == 'cuda':\n",
    "    torch.cuda.manual_seed_all(444)\n",
    "print(device + ' is avaulable')"
   ]
  },
  {
   "cell_type": "code",
   "execution_count": null,
   "id": "8d3b0392",
   "metadata": {},
   "outputs": [],
   "source": []
  },
  {
   "cell_type": "code",
   "execution_count": 4,
   "id": "5cc6ff53",
   "metadata": {},
   "outputs": [
    {
     "name": "stdout",
     "output_type": "stream",
     "text": [
      "Files already downloaded and verified\n"
     ]
    }
   ],
   "source": [
    "transform = transforms.Compose([transforms.ToTensor(), transforms.Normalize((0.5, 0.5, 0.5), (0.5, 0.5, 0.5))])\n",
    "\n",
    "testset = torchvision.datasets.CIFAR10(root = './data', train = False, download = True, transform = transform)\n",
    "testloader = torch.utils.data.DataLoader(testset, batch_size = batch_size, shuffle = False, num_workers = 2)\n",
    "\n",
    "classes = ('plane', 'car', 'bird', 'cat', 'deer', 'dog', 'frog', 'horse', 'ship', 'truck')\n",
    "num_classes = 10"
   ]
  },
  {
   "cell_type": "code",
   "execution_count": null,
   "id": "c090a078",
   "metadata": {},
   "outputs": [],
   "source": []
  },
  {
   "cell_type": "code",
   "execution_count": 5,
   "id": "35eeddd9",
   "metadata": {},
   "outputs": [],
   "source": [
    "## one-hot encoding"
   ]
  },
  {
   "cell_type": "code",
   "execution_count": 6,
   "id": "79eada16",
   "metadata": {},
   "outputs": [],
   "source": [
    "label_encoding = torch.FloatTensor([[1, 0, 0, 0, 0, 0, 0, 0, 0, 0],\n",
    "                                    [0, 1, 0, 0, 0, 0, 0, 0, 0, 0],\n",
    "                                    [0, 0, 1, 0, 0, 0, 0, 0, 0, 0],\n",
    "                                    [0, 0, 0, 1, 0, 0, 0, 0, 0, 0],\n",
    "                                    [0, 0, 0, 0, 1, 0, 0, 0, 0, 0],\n",
    "                                    [0, 0, 0, 0, 0, 1, 0, 0, 0, 0],\n",
    "                                    [0, 0, 0, 0, 0, 0, 1, 0, 0, 0],\n",
    "                                    [0, 0, 0, 0, 0, 0, 0, 1, 0, 0],\n",
    "                                    [0, 0, 0, 0, 0, 0, 0, 0, 1, 0],\n",
    "                                    [0, 0, 0, 0, 0, 0, 0, 0, 0, 1],])"
   ]
  },
  {
   "cell_type": "code",
   "execution_count": 7,
   "id": "b7b418a4",
   "metadata": {},
   "outputs": [],
   "source": [
    "label_encoding = label_encoding.cuda()"
   ]
  },
  {
   "cell_type": "code",
   "execution_count": null,
   "id": "6cdd81b2",
   "metadata": {},
   "outputs": [],
   "source": []
  },
  {
   "cell_type": "code",
   "execution_count": 8,
   "id": "b3140b4a",
   "metadata": {},
   "outputs": [],
   "source": [
    "path = 'TrainedModel/Resnet18(OneHotEncoding).pt'\n",
    "resnet18 = torch.load(path)\n",
    "resnet18.eval()\n",
    "resnet18 = resnet18.cuda()"
   ]
  },
  {
   "cell_type": "code",
   "execution_count": null,
   "id": "03f0544d",
   "metadata": {},
   "outputs": [],
   "source": []
  },
  {
   "cell_type": "code",
   "execution_count": 9,
   "id": "2528b627",
   "metadata": {},
   "outputs": [],
   "source": [
    "## negative"
   ]
  },
  {
   "cell_type": "code",
   "execution_count": 10,
   "id": "7c1c17c9",
   "metadata": {},
   "outputs": [
    {
     "name": "stdout",
     "output_type": "stream",
     "text": [
      "Negative data test acc : 41.120%\n"
     ]
    }
   ],
   "source": [
    "with torch.no_grad():\n",
    "    negative_correct = 0\n",
    "    negative_total = 0\n",
    "    negative_acc = 0\n",
    "    for i, (test_data, test_label) in enumerate(testloader):\n",
    "\n",
    "        test_data = test_data.cuda()\n",
    "        test_label = test_label.cuda()\n",
    "        \n",
    "        negative_test_data = 0 - test_data\n",
    "\n",
    "        test_output = resnet18(negative_test_data)\n",
    "\n",
    "        negative_total = negative_total + len(test_label)\n",
    "        negative_correct = negative_correct + (test_output.max(1)[1] == test_label).sum().item()\n",
    "        \n",
    "    negative_acc = negative_correct / negative_total * 100\n",
    "    print(\"Negative data test acc : {:3.3f}%\".format(negative_acc))"
   ]
  },
  {
   "cell_type": "code",
   "execution_count": null,
   "id": "766c6e3f",
   "metadata": {},
   "outputs": [],
   "source": []
  },
  {
   "cell_type": "code",
   "execution_count": 11,
   "id": "7025e3c6",
   "metadata": {},
   "outputs": [],
   "source": [
    "## Gaussian noise"
   ]
  },
  {
   "cell_type": "code",
   "execution_count": 12,
   "id": "a14a08f1",
   "metadata": {},
   "outputs": [],
   "source": [
    "gaussian_noise_mean = 0\n",
    "gaussian_noise_var = [i ** 2 * 0.01 for i in range(10)]\n",
    "gaussian_noise_correct = [0 for i in range(10)]\n",
    "gaussian_noise_total = [0 for i in range(10)]\n",
    "gaussian_noise_acc = [0 for i in range(10)]"
   ]
  },
  {
   "cell_type": "code",
   "execution_count": 13,
   "id": "7af0811e",
   "metadata": {},
   "outputs": [
    {
     "name": "stdout",
     "output_type": "stream",
     "text": [
      "Gaussian noise data (var : 0.000) test acc : 80.380%\n",
      "Gaussian noise data (var : 0.010) test acc : 75.670%\n",
      "Gaussian noise data (var : 0.040) test acc : 56.110%\n",
      "Gaussian noise data (var : 0.090) test acc : 36.680%\n",
      "Gaussian noise data (var : 0.160) test acc : 23.890%\n",
      "Gaussian noise data (var : 0.250) test acc : 17.410%\n",
      "Gaussian noise data (var : 0.360) test acc : 13.930%\n",
      "Gaussian noise data (var : 0.490) test acc : 12.540%\n",
      "Gaussian noise data (var : 0.640) test acc : 11.960%\n",
      "Gaussian noise data (var : 0.810) test acc : 11.350%\n"
     ]
    }
   ],
   "source": [
    "with torch.no_grad():\n",
    "    for i in range(10):\n",
    "        for _, (test_data, test_label) in enumerate(testloader):\n",
    "            \n",
    "            gaussian_noise_test_data = torch.tensor(random_noise(test_data, mode = 'gaussian', mean = gaussian_noise_mean, var = gaussian_noise_var[i], clip = True))\n",
    "            \n",
    "            gaussian_noise_test_data = gaussian_noise_test_data.to(device, dtype=torch.float)\n",
    "            test_label = test_label.cuda()\n",
    "\n",
    "            test_output = resnet18(gaussian_noise_test_data)\n",
    "\n",
    "            gaussian_noise_total[i] = gaussian_noise_total[i] + len(test_label)\n",
    "            gaussian_noise_correct[i] = gaussian_noise_correct[i] + (test_output.max(1)[1] == test_label).sum().item()\n",
    "            \n",
    "        gaussian_noise_acc[i] = gaussian_noise_correct[i] / gaussian_noise_total[i] * 100\n",
    "        print(\"Gaussian noise data (var : {:.3f}) test acc : {:3.3f}%\".format(gaussian_noise_var[i], gaussian_noise_correct[i] / gaussian_noise_total[i] * 100))"
   ]
  },
  {
   "cell_type": "code",
   "execution_count": null,
   "id": "7f1801cb",
   "metadata": {},
   "outputs": [],
   "source": []
  },
  {
   "cell_type": "code",
   "execution_count": 14,
   "id": "391f94b0",
   "metadata": {},
   "outputs": [],
   "source": [
    "## Gaussian blur"
   ]
  },
  {
   "cell_type": "code",
   "execution_count": 15,
   "id": "06156c8a",
   "metadata": {},
   "outputs": [],
   "source": [
    "gaussian_blur_sigma = [2 - i ** 2 * 0.02 for i in range(10)]\n",
    "gaussian_blur_correct = [0 for i in range(10)]\n",
    "gaussian_blur_total = [0 for i in range(10)]\n",
    "gaussian_blur_acc = [0 for i in range(10)]"
   ]
  },
  {
   "cell_type": "code",
   "execution_count": 16,
   "id": "21654b34",
   "metadata": {},
   "outputs": [
    {
     "name": "stdout",
     "output_type": "stream",
     "text": [
      "Gaussian blur data (sigma : 2.000) test acc : 37.030%\n",
      "Gaussian blur data (sigma : 1.980) test acc : 37.080%\n",
      "Gaussian blur data (sigma : 1.920) test acc : 37.170%\n",
      "Gaussian blur data (sigma : 1.820) test acc : 37.450%\n",
      "Gaussian blur data (sigma : 1.680) test acc : 37.870%\n",
      "Gaussian blur data (sigma : 1.500) test acc : 39.270%\n",
      "Gaussian blur data (sigma : 1.280) test acc : 42.670%\n",
      "Gaussian blur data (sigma : 1.020) test acc : 50.950%\n",
      "Gaussian blur data (sigma : 0.720) test acc : 66.790%\n",
      "Gaussian blur data (sigma : 0.380) test acc : 80.060%\n"
     ]
    }
   ],
   "source": [
    "with torch.no_grad():\n",
    "    for i in range(10):\n",
    "        gaussian_blur_transform = transforms.Compose([transforms.GaussianBlur(kernel_size = 5, sigma = gaussian_blur_sigma[i])])\n",
    "        for _, (test_data, test_label) in enumerate(testloader):\n",
    "            \n",
    "            gaussian_blur_test_data = gaussian_blur_transform(test_data)\n",
    "            \n",
    "            gaussian_blur_test_data = gaussian_blur_test_data.to(device, dtype=torch.float)\n",
    "            test_label = test_label.cuda()\n",
    "\n",
    "            test_output = resnet18(gaussian_blur_test_data)\n",
    "\n",
    "            gaussian_blur_total[i] = gaussian_blur_total[i] + len(test_label)\n",
    "            gaussian_blur_correct[i] = gaussian_blur_correct[i] + (test_output.max(1)[1] == test_label).sum().item()\n",
    "        \n",
    "        gaussian_blur_acc[i] = gaussian_blur_correct[i] / gaussian_blur_total[i] * 100\n",
    "        print(\"Gaussian blur data (sigma : {:.3f}) test acc : {:3.3f}%\".format(gaussian_blur_sigma[i], gaussian_blur_acc[i]))"
   ]
  },
  {
   "cell_type": "code",
   "execution_count": null,
   "id": "af4d0109",
   "metadata": {},
   "outputs": [],
   "source": []
  },
  {
   "cell_type": "code",
   "execution_count": 17,
   "id": "b472b634",
   "metadata": {},
   "outputs": [],
   "source": [
    "## Salt and Pepper"
   ]
  },
  {
   "cell_type": "code",
   "execution_count": 18,
   "id": "c0e6ad59",
   "metadata": {},
   "outputs": [],
   "source": [
    "salt_and_pepper_val = 0.5\n",
    "salt_and_pepper_amount = [i ** 2 * 0.01 for i in range(10)]\n",
    "salt_and_pepper_correct = [0 for i in range(10)]\n",
    "salt_and_pepper_total = [0 for i in range(10)]\n",
    "salt_and_pepper_acc = [0 for i in range(10)]"
   ]
  },
  {
   "cell_type": "code",
   "execution_count": 19,
   "id": "f5584786",
   "metadata": {},
   "outputs": [
    {
     "name": "stdout",
     "output_type": "stream",
     "text": [
      "Salt and Pepper data (amount : 0.000) test acc : 80.380%\n",
      "Salt and Pepper data (amount : 0.010) test acc : 72.960%\n",
      "Salt and Pepper data (amount : 0.040) test acc : 51.430%\n",
      "Salt and Pepper data (amount : 0.090) test acc : 28.450%\n",
      "Salt and Pepper data (amount : 0.160) test acc : 16.590%\n",
      "Salt and Pepper data (amount : 0.250) test acc : 12.780%\n",
      "Salt and Pepper data (amount : 0.360) test acc : 11.480%\n",
      "Salt and Pepper data (amount : 0.490) test acc : 10.670%\n",
      "Salt and Pepper data (amount : 0.640) test acc : 10.730%\n",
      "Salt and Pepper data (amount : 0.810) test acc : 10.070%\n"
     ]
    }
   ],
   "source": [
    "with torch.no_grad():\n",
    "    for i in range(10):\n",
    "        for _, (test_data, test_label) in enumerate(testloader):\n",
    "            \n",
    "            salt_and_pepper_test_data = torch.tensor(random_noise(test_data, mode = 's&p', amount = salt_and_pepper_amount[i], salt_vs_pepper = salt_and_pepper_val, clip = True))\n",
    "            \n",
    "            salt_and_pepper_test_data = salt_and_pepper_test_data.to(device, dtype=torch.float)\n",
    "            test_label = test_label.cuda()\n",
    "\n",
    "            test_output = resnet18(salt_and_pepper_test_data)\n",
    "\n",
    "            salt_and_pepper_total[i] = salt_and_pepper_total[i] + len(test_label)\n",
    "            salt_and_pepper_correct[i] = salt_and_pepper_correct[i] + (test_output.max(1)[1] == test_label).sum().item()\n",
    "\n",
    "        salt_and_pepper_acc[i] = salt_and_pepper_correct[i] / salt_and_pepper_total[i] * 100\n",
    "        print(\"Salt and Pepper data (amount : {:.3f}) test acc : {:3.3f}%\".format(salt_and_pepper_amount[i], salt_and_pepper_acc[i]))"
   ]
  },
  {
   "cell_type": "code",
   "execution_count": null,
   "id": "001b5466",
   "metadata": {},
   "outputs": [],
   "source": []
  },
  {
   "cell_type": "code",
   "execution_count": 20,
   "id": "86747b96",
   "metadata": {},
   "outputs": [],
   "source": [
    "## FGSM (Fast Gradient Signed Method)"
   ]
  },
  {
   "cell_type": "code",
   "execution_count": 21,
   "id": "f5f3c73a",
   "metadata": {},
   "outputs": [],
   "source": [
    "fgsm_epsilons = [i ** 2 * 0.001 for i in range(10)]\n",
    "fgsm_correct = [0 for i in range(10)]\n",
    "fgsm_total = [0 for i in range(10)]\n",
    "fgsm_acc = [0 for i in range(10)]"
   ]
  },
  {
   "cell_type": "code",
   "execution_count": 22,
   "id": "a64c2952",
   "metadata": {},
   "outputs": [
    {
     "name": "stdout",
     "output_type": "stream",
     "text": [
      "FGSM data (epsilons : 0.000) test acc : 80.380%\n",
      "FGSM data (epsilons : 0.001) test acc : 75.710%\n",
      "FGSM data (epsilons : 0.004) test acc : 63.370%\n",
      "FGSM data (epsilons : 0.009) test acc : 52.270%\n",
      "FGSM data (epsilons : 0.016) test acc : 45.020%\n",
      "FGSM data (epsilons : 0.025) test acc : 39.970%\n",
      "FGSM data (epsilons : 0.036) test acc : 36.170%\n",
      "FGSM data (epsilons : 0.049) test acc : 33.290%\n",
      "FGSM data (epsilons : 0.064) test acc : 31.290%\n",
      "FGSM data (epsilons : 0.081) test acc : 29.750%\n"
     ]
    }
   ],
   "source": [
    "for i in range(10):\n",
    "    for _, (test_data, test_label) in enumerate(testloader):\n",
    "\n",
    "        test_data = test_data.cuda()\n",
    "        test_label = test_label.cuda()\n",
    "        test_one_hot_label = label_encoding[test_label]\n",
    "        \n",
    "        test_data.requires_grad = True\n",
    "\n",
    "        fgsm_test_data = resnet18(test_data)\n",
    "        fgsm_pred = fgsm_test_data.max(1, keepdim = True)[1]\n",
    "\n",
    "        fgsm_loss = F.mse_loss(fgsm_test_data, test_one_hot_label)\n",
    "        resnet18.zero_grad()\n",
    "        fgsm_loss.backward()\n",
    "\n",
    "        test_data_grad = test_data.grad.data\n",
    "\n",
    "        sign_test_data_grad = test_data_grad.sign()\n",
    "        FGSM_images = test_data + fgsm_epsilons[i] * sign_test_data_grad\n",
    "        FGSM_images = torch.clamp(FGSM_images, -1, 1)\n",
    "\n",
    "        test_output = resnet18(FGSM_images)\n",
    "\n",
    "        fgsm_total[i] = fgsm_total[i] + len(test_label)\n",
    "        fgsm_correct[i] = fgsm_correct[i] + (test_output.max(1)[1] == test_label).sum().item()\n",
    "\n",
    "    fgsm_acc[i] = fgsm_correct[i] / fgsm_total[i] * 100\n",
    "    print(\"FGSM data (epsilons : {:.3f}) test acc : {:3.3f}%\".format(fgsm_epsilons[i], fgsm_acc[i]))"
   ]
  },
  {
   "cell_type": "code",
   "execution_count": null,
   "id": "863c88c8",
   "metadata": {},
   "outputs": [],
   "source": []
  },
  {
   "cell_type": "code",
   "execution_count": 23,
   "id": "759a0692",
   "metadata": {},
   "outputs": [],
   "source": [
    "## 결과 저장"
   ]
  },
  {
   "cell_type": "code",
   "execution_count": 24,
   "id": "98148fea",
   "metadata": {},
   "outputs": [],
   "source": [
    "negative_f = open(\"result/Negative(OneHotEncoding).txt\", \"w\")\n",
    "gaussian_noise_f = open(\"result/GaussianNoise(OneHotEncoding).txt\", \"w\")\n",
    "gaussian_blur_f = open(\"result/GaussianBlur(OneHotEncoding).txt\", \"w\")\n",
    "salt_and_pepper_f = open(\"result/SaltAndPepper(OneHotEncoding).txt\", \"w\")\n",
    "fgsm_f = open(\"result/FGSM(OneHotEncoding).txt\", \"w\")\n",
    "\n",
    "print(negative_acc, file = negative_f)\n",
    "\n",
    "print(gaussian_noise_var, file = gaussian_noise_f)\n",
    "print(gaussian_noise_acc, file = gaussian_noise_f)\n",
    "\n",
    "print(gaussian_blur_sigma, file = gaussian_blur_f)\n",
    "print(gaussian_blur_acc, file = gaussian_blur_f)\n",
    "\n",
    "print(salt_and_pepper_amount, file = salt_and_pepper_f)\n",
    "print(salt_and_pepper_acc, file = salt_and_pepper_f)\n",
    "\n",
    "print(fgsm_epsilons, file = fgsm_f)\n",
    "print(fgsm_acc, file = fgsm_f)\n",
    "\n",
    "fgsm_f.close()\n",
    "salt_and_pepper_f.close()\n",
    "gaussian_blur_f.close()\n",
    "gaussian_noise_f.close()\n",
    "negative_f.close()"
   ]
  }
 ],
 "metadata": {
  "kernelspec": {
   "display_name": "Python 3 (ipykernel)",
   "language": "python",
   "name": "python3"
  },
  "language_info": {
   "codemirror_mode": {
    "name": "ipython",
    "version": 3
   },
   "file_extension": ".py",
   "mimetype": "text/x-python",
   "name": "python",
   "nbconvert_exporter": "python",
   "pygments_lexer": "ipython3",
   "version": "3.9.12"
  }
 },
 "nbformat": 4,
 "nbformat_minor": 5
}
