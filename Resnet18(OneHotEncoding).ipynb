{
 "cells": [
  {
   "cell_type": "code",
   "execution_count": 1,
   "id": "2c7dde0f",
   "metadata": {},
   "outputs": [],
   "source": [
    "import torch\n",
    "import torch.nn as nn\n",
    "import torch.nn.functional as F\n",
    "import torch.optim as optim\n",
    "import torchvision\n",
    "import torchvision.transforms as transforms\n",
    "from torch.utils.data import Dataset\n",
    "from torchvision import models"
   ]
  },
  {
   "cell_type": "code",
   "execution_count": null,
   "id": "70dc457a",
   "metadata": {},
   "outputs": [],
   "source": []
  },
  {
   "cell_type": "code",
   "execution_count": 2,
   "id": "9e13f567",
   "metadata": {},
   "outputs": [],
   "source": [
    "## 파라메타 설정"
   ]
  },
  {
   "cell_type": "code",
   "execution_count": 3,
   "id": "89a7c518",
   "metadata": {},
   "outputs": [],
   "source": [
    "batch_size = 128\n",
    "epochs = 50\n",
    "lr = 0.001"
   ]
  },
  {
   "cell_type": "code",
   "execution_count": 4,
   "id": "d917c7cc",
   "metadata": {},
   "outputs": [
    {
     "name": "stdout",
     "output_type": "stream",
     "text": [
      "cuda is avaulable\n"
     ]
    }
   ],
   "source": [
    "device = 'cuda' if torch.cuda.is_available() else 'cpu'\n",
    "torch.manual_seed(444)\n",
    "if device == 'cuda':\n",
    "    torch.cuda.manual_seed_all(444)\n",
    "print(device + ' is avaulable')"
   ]
  },
  {
   "cell_type": "code",
   "execution_count": null,
   "id": "0212de5b",
   "metadata": {},
   "outputs": [],
   "source": []
  },
  {
   "cell_type": "code",
   "execution_count": 5,
   "id": "f7e4cb2c",
   "metadata": {},
   "outputs": [
    {
     "name": "stdout",
     "output_type": "stream",
     "text": [
      "Files already downloaded and verified\n",
      "Files already downloaded and verified\n"
     ]
    }
   ],
   "source": [
    "transform = transforms.Compose([transforms.ToTensor(), transforms.Normalize((0.5, 0.5, 0.5), (0.5, 0.5, 0.5))])\n",
    "\n",
    "trainset = torchvision.datasets.CIFAR10(root = './data', train = True, download = True, transform = transform)\n",
    "trainloader = torch.utils.data.DataLoader(trainset, batch_size = batch_size, shuffle = True, num_workers = 2)\n",
    "\n",
    "testset = torchvision.datasets.CIFAR10(root = './data', train = False, download = True, transform = transform)\n",
    "testloader = torch.utils.data.DataLoader(testset, batch_size = batch_size, shuffle = False, num_workers = 2)\n",
    "\n",
    "classes = ('plane', 'car', 'bird', 'cat', 'deer', 'dog', 'frog', 'horse', 'ship', 'truck')\n",
    "num_classes = 10"
   ]
  },
  {
   "cell_type": "code",
   "execution_count": null,
   "id": "fc61e94d",
   "metadata": {},
   "outputs": [],
   "source": []
  },
  {
   "cell_type": "code",
   "execution_count": 6,
   "id": "caa37c25",
   "metadata": {},
   "outputs": [],
   "source": [
    "## one-hot encoding"
   ]
  },
  {
   "cell_type": "code",
   "execution_count": 7,
   "id": "b6d50dcc",
   "metadata": {},
   "outputs": [],
   "source": [
    "label_encoding = torch.FloatTensor([[1, 0, 0, 0, 0, 0, 0, 0, 0, 0],\n",
    "                                    [0, 1, 0, 0, 0, 0, 0, 0, 0, 0],\n",
    "                                    [0, 0, 1, 0, 0, 0, 0, 0, 0, 0],\n",
    "                                    [0, 0, 0, 1, 0, 0, 0, 0, 0, 0],\n",
    "                                    [0, 0, 0, 0, 1, 0, 0, 0, 0, 0],\n",
    "                                    [0, 0, 0, 0, 0, 1, 0, 0, 0, 0],\n",
    "                                    [0, 0, 0, 0, 0, 0, 1, 0, 0, 0],\n",
    "                                    [0, 0, 0, 0, 0, 0, 0, 1, 0, 0],\n",
    "                                    [0, 0, 0, 0, 0, 0, 0, 0, 1, 0],\n",
    "                                    [0, 0, 0, 0, 0, 0, 0, 0, 0, 1],])"
   ]
  },
  {
   "cell_type": "code",
   "execution_count": null,
   "id": "f60f534f",
   "metadata": {},
   "outputs": [],
   "source": []
  },
  {
   "cell_type": "code",
   "execution_count": 8,
   "id": "68c6fad4",
   "metadata": {},
   "outputs": [],
   "source": [
    "## Resnet18 모델 생성"
   ]
  },
  {
   "cell_type": "code",
   "execution_count": 9,
   "id": "28af9ee3",
   "metadata": {},
   "outputs": [
    {
     "name": "stderr",
     "output_type": "stream",
     "text": [
      "C:\\Users\\fly4h\\anaconda3\\lib\\site-packages\\torchvision\\models\\_utils.py:208: UserWarning: The parameter 'pretrained' is deprecated since 0.13 and will be removed in 0.15, please use 'weights' instead.\n",
      "  warnings.warn(\n",
      "C:\\Users\\fly4h\\anaconda3\\lib\\site-packages\\torchvision\\models\\_utils.py:223: UserWarning: Arguments other than a weight enum or `None` for 'weights' are deprecated since 0.13 and will be removed in 0.15. The current behavior is equivalent to passing `weights=ResNet18_Weights.IMAGENET1K_V1`. You can also use `weights=ResNet18_Weights.DEFAULT` to get the most up-to-date weights.\n",
      "  warnings.warn(msg)\n"
     ]
    }
   ],
   "source": [
    "resnet18 = models.resnet18(pretrained = True)\n",
    "resnet18.fc = nn.Linear(512, num_classes)"
   ]
  },
  {
   "cell_type": "code",
   "execution_count": null,
   "id": "15e94ddd",
   "metadata": {},
   "outputs": [],
   "source": []
  },
  {
   "cell_type": "code",
   "execution_count": 10,
   "id": "e1f183d3",
   "metadata": {},
   "outputs": [],
   "source": [
    "resnet18 = resnet18.cuda()\n",
    "optimizer = optim.Adam(resnet18.parameters(), lr = lr, weight_decay = 0.00001)\n",
    "criterion = nn.MSELoss()"
   ]
  },
  {
   "cell_type": "code",
   "execution_count": null,
   "id": "28c64f25",
   "metadata": {},
   "outputs": [],
   "source": []
  },
  {
   "cell_type": "code",
   "execution_count": 11,
   "id": "1a8ab7da",
   "metadata": {},
   "outputs": [],
   "source": [
    "## 모델 학습"
   ]
  },
  {
   "cell_type": "code",
   "execution_count": 12,
   "id": "4d81cfb6",
   "metadata": {},
   "outputs": [],
   "source": [
    "label_encoding = label_encoding.cuda()"
   ]
  },
  {
   "cell_type": "code",
   "execution_count": 13,
   "id": "2736df7c",
   "metadata": {},
   "outputs": [
    {
     "name": "stdout",
     "output_type": "stream",
     "text": [
      "epoch :   1, test acc : 73.960%, train loss : 24.2692\n",
      "epoch :   2, test acc : 77.930%, train loss : 13.1736\n",
      "epoch :   3, test acc : 79.150%, train loss : 10.6810\n",
      "epoch :   4, test acc : 80.430%, train loss : 9.1501\n",
      "epoch :   5, test acc : 79.990%, train loss : 8.1487\n",
      "epoch :   6, test acc : 79.940%, train loss : 7.2579\n",
      "epoch :   7, test acc : 79.970%, train loss : 6.5638\n",
      "epoch :   8, test acc : 79.760%, train loss : 5.8186\n",
      "epoch :   9, test acc : 80.130%, train loss : 5.6153\n",
      "epoch :  10, test acc : 79.920%, train loss : 4.9628\n",
      "epoch :  11, test acc : 80.410%, train loss : 4.4054\n",
      "epoch :  12, test acc : 80.010%, train loss : 4.5828\n",
      "epoch :  13, test acc : 80.290%, train loss : 3.9780\n",
      "epoch :  14, test acc : 80.870%, train loss : 3.6225\n",
      "epoch :  15, test acc : 80.500%, train loss : 3.7402\n",
      "epoch :  16, test acc : 79.600%, train loss : 3.3534\n",
      "epoch :  17, test acc : 80.000%, train loss : 3.1401\n",
      "epoch :  18, test acc : 79.490%, train loss : 2.9228\n",
      "epoch :  19, test acc : 80.170%, train loss : 2.9463\n",
      "epoch :  20, test acc : 80.610%, train loss : 2.8154\n",
      "epoch :  21, test acc : 79.800%, train loss : 2.7250\n",
      "epoch :  22, test acc : 80.050%, train loss : 2.6217\n",
      "epoch :  23, test acc : 80.060%, train loss : 2.4328\n",
      "epoch :  24, test acc : 75.000%, train loss : 3.1429\n",
      "epoch :  25, test acc : 80.460%, train loss : 3.6251\n",
      "epoch :  26, test acc : 80.230%, train loss : 2.2154\n",
      "epoch :  27, test acc : 79.080%, train loss : 2.0706\n",
      "epoch :  28, test acc : 80.350%, train loss : 2.1697\n",
      "epoch :  29, test acc : 79.360%, train loss : 2.2396\n",
      "epoch :  30, test acc : 79.150%, train loss : 2.1772\n",
      "epoch :  31, test acc : 79.850%, train loss : 2.1124\n",
      "epoch :  32, test acc : 79.690%, train loss : 2.2450\n",
      "epoch :  33, test acc : 80.550%, train loss : 2.1063\n",
      "epoch :  34, test acc : 80.030%, train loss : 1.9328\n",
      "epoch :  35, test acc : 78.650%, train loss : 2.1617\n",
      "epoch :  36, test acc : 79.910%, train loss : 2.0499\n",
      "epoch :  37, test acc : 79.200%, train loss : 2.0855\n",
      "epoch :  38, test acc : 79.800%, train loss : 2.0742\n",
      "epoch :  39, test acc : 79.520%, train loss : 1.9451\n",
      "epoch :  40, test acc : 79.490%, train loss : 2.0187\n",
      "epoch :  41, test acc : 79.350%, train loss : 2.0366\n",
      "epoch :  42, test acc : 79.970%, train loss : 1.9378\n",
      "epoch :  43, test acc : 79.440%, train loss : 1.9542\n",
      "epoch :  44, test acc : 79.380%, train loss : 1.9845\n",
      "epoch :  45, test acc : 79.480%, train loss : 1.8746\n",
      "epoch :  46, test acc : 78.590%, train loss : 1.8138\n",
      "epoch :  47, test acc : 79.160%, train loss : 1.8986\n",
      "epoch :  48, test acc : 79.960%, train loss : 1.9458\n",
      "epoch :  49, test acc : 79.000%, train loss : 1.8486\n",
      "epoch :  50, test acc : 79.830%, train loss : 1.8232\n"
     ]
    }
   ],
   "source": [
    "for epoch in range(epochs):\n",
    "    train_loss = 0\n",
    "    for i, (train_data, train_label) in enumerate(trainloader):\n",
    "        \n",
    "        train_data = train_data.cuda()\n",
    "        train_label = train_label.cuda()\n",
    "        train_one_hot_label = label_encoding[train_label]\n",
    "        \n",
    "        optimizer.zero_grad()\n",
    "        \n",
    "        train_output = resnet18(train_data)\n",
    "        loss = criterion(train_output, train_one_hot_label)\n",
    "        \n",
    "        loss.backward()\n",
    "        optimizer.step()\n",
    "        \n",
    "        train_loss = train_loss + loss.item()\n",
    "        \n",
    "    with torch.no_grad():\n",
    "        correct = 0\n",
    "        total = 0\n",
    "        for i, (test_data, test_label) in enumerate(testloader):\n",
    "            \n",
    "            test_data = test_data.cuda()\n",
    "            test_label = test_label.cuda()\n",
    "            \n",
    "            test_output = resnet18(test_data)\n",
    "            \n",
    "            total = total + len(test_label)\n",
    "            correct = correct + (test_output.max(1)[1] == test_label).sum().item()\n",
    "            \n",
    "        print(\"epoch : {:3d}, test acc : {:3.3f}%, train loss : {:3.4f}\".format(epoch + 1, correct / total * 100, train_loss))"
   ]
  },
  {
   "cell_type": "code",
   "execution_count": null,
   "id": "ec46abc5",
   "metadata": {},
   "outputs": [],
   "source": []
  },
  {
   "cell_type": "code",
   "execution_count": 14,
   "id": "26fa2b07",
   "metadata": {},
   "outputs": [],
   "source": [
    "## 모델 저장"
   ]
  },
  {
   "cell_type": "code",
   "execution_count": 15,
   "id": "43e18f13",
   "metadata": {},
   "outputs": [],
   "source": [
    "resnet18 = resnet18.cpu()\n",
    "path = 'TrainedModel/Resnet18(OneHotEncoding).pt'\n",
    "torch.save(resnet18, path)"
   ]
  }
 ],
 "metadata": {
  "kernelspec": {
   "display_name": "Python 3 (ipykernel)",
   "language": "python",
   "name": "python3"
  },
  "language_info": {
   "codemirror_mode": {
    "name": "ipython",
    "version": 3
   },
   "file_extension": ".py",
   "mimetype": "text/x-python",
   "name": "python",
   "nbconvert_exporter": "python",
   "pygments_lexer": "ipython3",
   "version": "3.9.12"
  }
 },
 "nbformat": 4,
 "nbformat_minor": 5
}
